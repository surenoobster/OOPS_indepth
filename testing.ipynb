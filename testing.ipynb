{
 "cells": [
  {
   "cell_type": "code",
   "execution_count": 4,
   "metadata": {},
   "outputs": [
    {
     "ename": "TypeError",
     "evalue": "CAR.getspeed() takes 1 positional argument but 2 were given",
     "output_type": "error",
     "traceback": [
      "\u001b[1;31m---------------------------------------------------------------------------\u001b[0m",
      "\u001b[1;31mTypeError\u001b[0m                                 Traceback (most recent call last)",
      "Cell \u001b[1;32mIn[4], line 14\u001b[0m\n\u001b[0;32m     11\u001b[0m car1 \u001b[38;5;241m=\u001b[39m CAR(\u001b[38;5;124m\"\u001b[39m\u001b[38;5;124mToyota\u001b[39m\u001b[38;5;124m\"\u001b[39m, \u001b[38;5;241m120\u001b[39m)\n\u001b[0;32m     12\u001b[0m car2 \u001b[38;5;241m=\u001b[39m CAR(\u001b[38;5;124m\"\u001b[39m\u001b[38;5;124mHonda\u001b[39m\u001b[38;5;124m\"\u001b[39m, \u001b[38;5;241m140\u001b[39m)\n\u001b[1;32m---> 14\u001b[0m \u001b[43mcar1\u001b[49m\u001b[38;5;241;43m.\u001b[39;49m\u001b[43mgetspeed\u001b[49m\u001b[43m(\u001b[49m\u001b[43mcar1\u001b[49m\u001b[38;5;241;43m.\u001b[39;49m\u001b[43mspeed\u001b[49m\u001b[43m)\u001b[49m\n",
      "\u001b[1;31mTypeError\u001b[0m: CAR.getspeed() takes 1 positional argument but 2 were given"
     ]
    }
   ],
   "source": [
    "class CAR:\n",
    "    def __init__(self,brand,speed):\n",
    "        self.brand = brand\n",
    "        self.speed = speed\n",
    "\n",
    "\n",
    "    def getspeed(speed):\n",
    "        print(speed)\n",
    "\n",
    "# Creating objects\n",
    "car1 = CAR(\"Toyota\", 120)\n",
    "car2 = CAR(\"Honda\", 140)\n",
    "\n",
    "car1.getspeed(car1.speed)\n",
    "\n"
   ]
  },
  {
   "cell_type": "code",
   "execution_count": 5,
   "metadata": {},
   "outputs": [
    {
     "name": "stdout",
     "output_type": "stream",
     "text": [
      "120\n"
     ]
    }
   ],
   "source": [
    "class CAR:\n",
    "    def __init__(self, brand, speed):\n",
    "        self.brand = brand\n",
    "        self.speed = speed\n",
    "\n",
    "    def getspeed(self, speed):  # Add 'self' as the first argument\n",
    "        print(speed)\n",
    "\n",
    "# Creating objects\n",
    "car1 = CAR(\"Toyota\", 120)\n",
    "car2 = CAR(\"Honda\", 140)\n",
    "\n",
    "# Calling the method\n",
    "car1.getspeed(car1.speed)  # Output: 120\n"
   ]
  },
  {
   "cell_type": "code",
   "execution_count": 9,
   "metadata": {},
   "outputs": [
    {
     "name": "stdout",
     "output_type": "stream",
     "text": [
      "120\n"
     ]
    }
   ],
   "source": [
    "class CAR:\n",
    "    def __init__(self, brand, speed):\n",
    "        self.brand = brand\n",
    "        self.speed = speed\n",
    "\n",
    "    def getspeed(self):  # Method should accept 'self' but not 'speed' here\n",
    "        print(self.speed)  # Access the instance variable 'self.speed'\n",
    "\n",
    "# Creating objects\n",
    "car1 = CAR(\"Toyota\", 120)\n",
    "car2 = CAR(\"Honda\", 140)\n",
    "\n",
    "# Calling the method\n",
    "car1.getspeed()  # Output: 120\n"
   ]
  },
  {
   "cell_type": "code",
   "execution_count": 10,
   "metadata": {},
   "outputs": [
    {
     "name": "stdout",
     "output_type": "stream",
     "text": [
      "Balance: $1000\n"
     ]
    }
   ],
   "source": [
    "class BankAccount:\n",
    "    def __init__(self):\n",
    "        self.__balance = 0  # Private attribute\n",
    "\n",
    "    def deposit(self, amount):\n",
    "        if amount > 0:\n",
    "            self.__balance += amount\n",
    "\n",
    "    def get_balance(self):\n",
    "        return self.__balance  # Access private attribute via a method\n",
    "\n",
    "# Using the class\n",
    "account = BankAccount()\n",
    "account.deposit(1000)\n",
    "print(f\"Balance: ${account.get_balance()}\")\n"
   ]
  },
  {
   "cell_type": "code",
   "execution_count": 11,
   "metadata": {},
   "outputs": [
    {
     "data": {
      "text/plain": [
       "1000"
      ]
     },
     "execution_count": 11,
     "metadata": {},
     "output_type": "execute_result"
    }
   ],
   "source": [
    "account.get_balance()"
   ]
  },
  {
   "cell_type": "code",
   "execution_count": null,
   "metadata": {},
   "outputs": [],
   "source": []
  }
 ],
 "metadata": {
  "kernelspec": {
   "display_name": "Python 3",
   "language": "python",
   "name": "python3"
  },
  "language_info": {
   "codemirror_mode": {
    "name": "ipython",
    "version": 3
   },
   "file_extension": ".py",
   "mimetype": "text/x-python",
   "name": "python",
   "nbconvert_exporter": "python",
   "pygments_lexer": "ipython3",
   "version": "3.12.6"
  }
 },
 "nbformat": 4,
 "nbformat_minor": 2
}
